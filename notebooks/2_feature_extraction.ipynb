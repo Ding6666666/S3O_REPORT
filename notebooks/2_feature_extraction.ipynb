{
 "cells": [
  {
   "cell_type": "code",
   "execution_count": 2,
   "metadata": {},
   "outputs": [],
   "source": [
    "import geopandas as gpd\n",
    "import rasterio\n",
    "import numpy as np\n",
    "from rasterio.plot import show\n",
    "from rasterio.warp import reproject, Resampling\n",
    "\n",
    "# 读取 DEM 并计算坡度\n",
    "with rasterio.open(\"../data/raw/HydroSHEDS_DEM_90m.tif\") as dem:\n",
    "    elevation = dem.read(1)\n",
    "    profile = dem.profile\n",
    "\n",
    "# 计算坡度\n",
    "slope_x, slope_y = np.gradient(elevation)\n",
    "slope = np.sqrt(slope_x**2 + slope_y**2)\n",
    "\n",
    "# 读取 avg_cloud_thickness.tif 并获取其形状和变换信息\n",
    "with rasterio.open(\"../data/processed/avg_cloud_thickness.tif\") as src:\n",
    "    cloud_data = src.read(1)\n",
    "    cloud_profile = src.profile\n",
    "\n",
    "# 创建一个与 cloud_data 相同大小的数组来存储重采样后的 slope 数据\n",
    "slope_resampled = np.empty_like(cloud_data)\n",
    "\n",
    "# 重采样 slope 数据到与 cloud_data 相同的大小\n",
    "reproject(\n",
    "    source=slope,\n",
    "    destination=slope_resampled,\n",
    "    src_transform=profile['transform'],\n",
    "    src_crs=profile['crs'],\n",
    "    dst_transform=cloud_profile['transform'],\n",
    "    dst_crs=cloud_profile['crs'],\n",
    "    resampling=Resampling.bilinear\n",
    ")\n",
    "\n",
    "# 保存重采样后的坡度特征数据\n",
    "np.save(\"../data/processed/slope_resampled.npy\", slope_resampled)\n",
    "\n",
    "# 保存 avg_cloud_thickness 数据为 .npy 文件\n",
    "np.save(\"../data/processed/avg_cloud_thickness.npy\", cloud_data)"
   ]
  }
 ],
 "metadata": {
  "kernelspec": {
   "display_name": "Python (s3o_env)",
   "language": "python",
   "name": "s3o_env"
  }
 },
 "nbformat": 4,
 "nbformat_minor": 2
}
