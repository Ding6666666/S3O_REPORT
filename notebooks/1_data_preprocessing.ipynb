{
 "cells": [
  {
   "cell_type": "code",
   "execution_count": 2,
   "metadata": {},
   "outputs": [
    {
     "name": "stdout",
     "output_type": "stream",
     "text": [
      "查找的文件路径: D:\\Project\\ML\\Singapore cloud project\\data\\raw\\GEE_exports\\*.tif\n",
      "读取文件: D:/Project/ML/Singapore cloud project/data/raw/GEE_exports\\COT_2018.tif\n",
      "读取文件: D:/Project/ML/Singapore cloud project/data/raw/GEE_exports\\COT_2019.tif\n",
      "读取文件: D:/Project/ML/Singapore cloud project/data/raw/GEE_exports\\COT_2020.tif\n",
      "读取文件: D:/Project/ML/Singapore cloud project/data/raw/GEE_exports\\COT_2021.tif\n",
      "读取文件: D:/Project/ML/Singapore cloud project/data/raw/GEE_exports\\COT_2022.tif\n",
      "读取文件: D:/Project/ML/Singapore cloud project/data/raw/GEE_exports\\COT_2023.tif\n"
     ]
    }
   ],
   "source": [
    "import rasterio\n",
    "import numpy as np\n",
    "import glob\n",
    "import os\n",
    "import rasterio.warp\n",
    "\n",
    "# 读取所有 GeoTIFF 文件\n",
    "file_paths = glob.glob(\"../data/raw/GEEexports/.tif\")\n",
    "print(f\"查找的文件路径: {os.path.abspath('../data/raw/GEE_exports/*.tif')}\")\n",
    "if not file_paths:\n",
    "    raise FileNotFoundError(\"没有找到任何 GeoTIFF 文件，请检查文件路径。\")\n",
    "\n",
    "data_list = []\n",
    "profile = None\n",
    "for path in file_paths:\n",
    "    print(f\"读取文件: {path}\")\n",
    "    with rasterio.open(path) as src:\n",
    "        if profile is None:\n",
    "            profile = src.profile\n",
    "        data_list.append(src.read(1))\n",
    "\n",
    "if profile is None:\n",
    "    raise ValueError(\"没有成功读取任何文件的 profile 信息，请检查文件内容。\")\n",
    "\n",
    "# 计算 6 年平均云层厚度\n",
    "average_cloud_thickness = np.mean(data_list, axis=0)\n",
    "\n",
    "# 统一坐标系、重采样到 500m 分辨率\n",
    "profile.update(dtype=rasterio.float32, compress='lzw')\n",
    "with rasterio.open(\"D:/Project/ML/Singapore cloud project/data/processed/avg_cloud_thickness.tif\", \"w\", **profile) as dst:\n",
    "    dst.write(average_cloud_thickness.astype(rasterio.float32), 1)"
   ]
  }
 ],
 "metadata": {
  "kernelspec": {
   "display_name": "Python (s3o_env)",
   "language": "python",
   "name": "s3o_env"
  }
 },
 "nbformat": 4,
 "nbformat_minor": 2
}
