{
 "cells": [
  {
   "cell_type": "code",
   "execution_count": 5,
   "metadata": {},
   "outputs": [
    {
     "name": "stdout",
     "output_type": "stream",
     "text": [
      "开始训练模型...\n",
      "Epoch 1/10, Loss: 0.8353\n",
      "Epoch 2/10, Loss: 0.7843\n",
      "Epoch 3/10, Loss: 0.7316\n",
      "Epoch 4/10, Loss: 0.6525\n",
      "Epoch 5/10, Loss: 0.5489\n",
      "Epoch 6/10, Loss: 0.4302\n",
      "Epoch 7/10, Loss: 0.3146\n",
      "Epoch 8/10, Loss: 0.2180\n",
      "Epoch 9/10, Loss: 0.1434\n",
      "Epoch 10/10, Loss: 0.0916\n",
      "\n",
      "模型已保存至: D:/Project/ML/Singapore cloud project/result\\solar_model.pth\n"
     ]
    }
   ],
   "source": [
    "import torch\n",
    "import torch.nn as nn\n",
    "import torch.optim as optim\n",
    "import numpy as np\n",
    "from torch.utils.data import DataLoader, TensorDataset\n",
    "import os\n",
    "from solarnet import SolarNet  # 从单独的文件导入模型\n",
    "\n",
    "# 创建结果目录\n",
    "result_dir = \"D:/Project/ML/Singapore cloud project/result\"\n",
    "if not os.path.exists(result_dir):\n",
    "    os.makedirs(result_dir)\n",
    "\n",
    "try:\n",
    "    # 1. 数据加载和预处理\n",
    "    cloud_data = np.load(\"D:/Project/ML/Singapore cloud project/data/processed/avg_cloud_thickness.npy\")\n",
    "    slope_data = np.load(\"D:/Project/ML/Singapore cloud project/data/processed/slope_resampled.npy\")\n",
    "\n",
    "    # 确保数据形状一致\n",
    "    min_shape = (min(cloud_data.shape[0], slope_data.shape[0]),\n",
    "                min(cloud_data.shape[1], slope_data.shape[1]))\n",
    "    cloud_data = cloud_data[:min_shape[0], :min_shape[1]]\n",
    "    slope_data = slope_data[:min_shape[0], :min_shape[1]]\n",
    "\n",
    "    # 2. 数据准备\n",
    "    X = np.stack([cloud_data, slope_data], axis=0)\n",
    "    X = torch.tensor(X, dtype=torch.float32).unsqueeze(0)\n",
    "    Y = torch.tensor((cloud_data < 10).astype(int), dtype=torch.float32).unsqueeze(0)\n",
    "\n",
    "    dataset = TensorDataset(X, Y)\n",
    "    dataloader = DataLoader(dataset, batch_size=1, shuffle=True)\n",
    "\n",
    "    # 3. 模型训练\n",
    "    model = SolarNet()\n",
    "    criterion = nn.BCELoss()\n",
    "    optimizer = optim.Adam(model.parameters(), lr=0.001)\n",
    "\n",
    "    print(\"开始训练模型...\")\n",
    "    epochs = 10\n",
    "    for epoch in range(epochs):\n",
    "        for batch_X, batch_y in dataloader:\n",
    "            optimizer.zero_grad()\n",
    "            outputs = model(batch_X)\n",
    "            batch_y = batch_y.unsqueeze(1)\n",
    "            batch_y = nn.functional.interpolate(batch_y, size=outputs.shape[2:], mode='nearest')\n",
    "            loss = criterion(outputs, batch_y)\n",
    "            loss.backward()\n",
    "            optimizer.step()\n",
    "        print(f\"Epoch {epoch+1}/{epochs}, Loss: {loss.item():.4f}\")\n",
    "\n",
    "    # 4. 保存模型\n",
    "    model_path = os.path.join(result_dir, \"solar_model.pth\")\n",
    "    torch.save(model.state_dict(), model_path)\n",
    "    print(f\"\\n模型已保存至: {model_path}\")\n",
    "\n",
    "except Exception as e:\n",
    "    print(f\"\\n错误：{str(e)}\")\n",
    "    print(\"\\n请检查以下几点：\")\n",
    "    print(\"1. 确保数据文件存在于正确路径\")\n",
    "    print(\"2. 确保有足够的内存进行训练\")\n",
    "    print(\"3. 确保结果目录可写入\")"
   ]
  }
 ],
 "metadata": {
  "kernelspec": {
   "display_name": "Python (s3o_env)",
   "language": "python",
   "name": "s3o_env"
  },
  "language_info": {
   "codemirror_mode": {
    "name": "ipython",
    "version": 3
   },
   "file_extension": ".py",
   "mimetype": "text/x-python",
   "name": "python",
   "nbconvert_exporter": "python",
   "pygments_lexer": "ipython3",
   "version": "3.9.21"
  }
 },
 "nbformat": 4,
 "nbformat_minor": 2
}
